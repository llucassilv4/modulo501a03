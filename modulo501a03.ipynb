{
 "cells": [
  {
   "cell_type": "code",
   "execution_count": 1,
   "id": "19992dcf",
   "metadata": {},
   "outputs": [],
   "source": [
    "import pandas as pd\n",
    "import numpy as np"
   ]
  },
  {
   "cell_type": "code",
   "execution_count": 3,
   "id": "5228fcf8",
   "metadata": {},
   "outputs": [
    {
     "data": {
      "text/plain": [
       "(27028, 69)"
      ]
     },
     "execution_count": 3,
     "metadata": {},
     "output_type": "execute_result"
    }
   ],
   "source": [
    "# 1 \n",
    "sinasc = pd.read_csv('SINASC_RO_2019.csv')\n",
    "sinasc.shape"
   ]
  },
  {
   "cell_type": "code",
   "execution_count": 5,
   "id": "124e375a",
   "metadata": {},
   "outputs": [
    {
     "data": {
      "text/plain": [
       "(27028, 69)"
      ]
     },
     "execution_count": 5,
     "metadata": {},
     "output_type": "execute_result"
    }
   ],
   "source": [
    "sinasc.drop_duplicates()\n",
    "sinasc.shape\n",
    "\n",
    "# não há dados duplicados na base em estudo"
   ]
  },
  {
   "cell_type": "code",
   "execution_count": 6,
   "id": "45b69bc9",
   "metadata": {},
   "outputs": [
    {
     "data": {
      "text/plain": [
       "ORIGEM          0\n",
       "CODESTAB      115\n",
       "CODMUNNASC      0\n",
       "LOCNASC         0\n",
       "IDADEMAE        0\n",
       "             ... \n",
       "munResUf        0\n",
       "munResLat       1\n",
       "munResLon       1\n",
       "munResAlt       1\n",
       "munResArea      1\n",
       "Length: 69, dtype: int64"
      ]
     },
     "execution_count": 6,
     "metadata": {},
     "output_type": "execute_result"
    }
   ],
   "source": [
    "# 2\n",
    "sinasc.isna().sum()"
   ]
  },
  {
   "cell_type": "code",
   "execution_count": 8,
   "id": "cc6f1647",
   "metadata": {},
   "outputs": [
    {
     "data": {
      "text/plain": [
       "LOCNASC          0\n",
       "IDADEMAE         0\n",
       "ESTCIVMAE      317\n",
       "ESCMAE         312\n",
       "QTDFILVIVO    1573\n",
       "GESTACAO      1232\n",
       "GRAVIDEZ        79\n",
       "CONSULTAS        0\n",
       "APGAR5         103\n",
       "dtype: int64"
      ]
     },
     "execution_count": 8,
     "metadata": {},
     "output_type": "execute_result"
    }
   ],
   "source": [
    "# 3\n",
    "base_sinasc = sinasc[['LOCNASC', 'IDADEMAE', 'ESTCIVMAE', 'ESCMAE', 'QTDFILVIVO', \n",
    "    'GESTACAO', 'GRAVIDEZ', 'CONSULTAS', 'APGAR5']]\n",
    "\n",
    "base_sinasc\n",
    "base_sinasc.isna().sum()"
   ]
  },
  {
   "cell_type": "code",
   "execution_count": 10,
   "id": "4e7a0c4b",
   "metadata": {},
   "outputs": [
    {
     "name": "stdout",
     "output_type": "stream",
     "text": [
      "(27028, 9)\n"
     ]
    }
   ],
   "source": [
    "# 4 \n",
    "print(base_sinasc.shape)"
   ]
  },
  {
   "cell_type": "code",
   "execution_count": 11,
   "id": "6832e91b",
   "metadata": {},
   "outputs": [
    {
     "name": "stdout",
     "output_type": "stream",
     "text": [
      "(26925, 9)\n"
     ]
    },
    {
     "name": "stderr",
     "output_type": "stream",
     "text": [
      "C:\\Users\\Usuario\\AppData\\Local\\Temp\\ipykernel_1796\\3733228892.py:1: SettingWithCopyWarning: \n",
      "A value is trying to be set on a copy of a slice from a DataFrame\n",
      "\n",
      "See the caveats in the documentation: https://pandas.pydata.org/pandas-docs/stable/user_guide/indexing.html#returning-a-view-versus-a-copy\n",
      "  base_sinasc.dropna(subset=['APGAR5'], inplace = True)\n"
     ]
    }
   ],
   "source": [
    "base_sinasc.dropna(subset=['APGAR5'], inplace = True)\n",
    "print(base_sinasc.shape)"
   ]
  },
  {
   "cell_type": "code",
   "execution_count": 12,
   "id": "1b05e034",
   "metadata": {},
   "outputs": [
    {
     "data": {
      "text/plain": [
       "LOCNASC          0\n",
       "IDADEMAE         0\n",
       "ESTCIVMAE      315\n",
       "ESCMAE         310\n",
       "QTDFILVIVO    1566\n",
       "GESTACAO      1216\n",
       "GRAVIDEZ        76\n",
       "CONSULTAS        0\n",
       "APGAR5           0\n",
       "dtype: int64"
      ]
     },
     "execution_count": 12,
     "metadata": {},
     "output_type": "execute_result"
    }
   ],
   "source": [
    "# 5\n",
    "base_sinasc.isna().sum()"
   ]
  },
  {
   "cell_type": "code",
   "execution_count": 13,
   "id": "84d11fdc",
   "metadata": {},
   "outputs": [
    {
     "name": "stderr",
     "output_type": "stream",
     "text": [
      "C:\\Users\\Usuario\\AppData\\Local\\Temp\\ipykernel_1796\\2992306254.py:1: SettingWithCopyWarning: \n",
      "A value is trying to be set on a copy of a slice from a DataFrame\n",
      "\n",
      "See the caveats in the documentation: https://pandas.pydata.org/pandas-docs/stable/user_guide/indexing.html#returning-a-view-versus-a-copy\n",
      "  base_sinasc.ESTCIVMAE.fillna(9,inplace=True)\n",
      "C:\\Users\\Usuario\\AppData\\Local\\Temp\\ipykernel_1796\\2992306254.py:2: SettingWithCopyWarning: \n",
      "A value is trying to be set on a copy of a slice from a DataFrame\n",
      "\n",
      "See the caveats in the documentation: https://pandas.pydata.org/pandas-docs/stable/user_guide/indexing.html#returning-a-view-versus-a-copy\n",
      "  base_sinasc.CONSULTAS.fillna(9,inplace=True)\n"
     ]
    },
    {
     "data": {
      "text/plain": [
       "LOCNASC          0\n",
       "IDADEMAE         0\n",
       "ESTCIVMAE        0\n",
       "ESCMAE         310\n",
       "QTDFILVIVO    1566\n",
       "GESTACAO      1216\n",
       "GRAVIDEZ        76\n",
       "CONSULTAS        0\n",
       "APGAR5           0\n",
       "dtype: int64"
      ]
     },
     "execution_count": 13,
     "metadata": {},
     "output_type": "execute_result"
    }
   ],
   "source": [
    "base_sinasc.ESTCIVMAE.fillna(9,inplace=True)\n",
    "base_sinasc.CONSULTAS.fillna(9,inplace=True)\n",
    "\n",
    "base_sinasc.isna().sum()"
   ]
  },
  {
   "cell_type": "code",
   "execution_count": 15,
   "id": "7bf0fb64",
   "metadata": {},
   "outputs": [
    {
     "name": "stderr",
     "output_type": "stream",
     "text": [
      "C:\\Users\\Usuario\\AppData\\Local\\Temp\\ipykernel_1796\\2958002090.py:2: SettingWithCopyWarning: \n",
      "A value is trying to be set on a copy of a slice from a DataFrame\n",
      "\n",
      "See the caveats in the documentation: https://pandas.pydata.org/pandas-docs/stable/user_guide/indexing.html#returning-a-view-versus-a-copy\n",
      "  base_sinasc.QTDFILVIVO.fillna(0,inplace=True)\n"
     ]
    },
    {
     "data": {
      "text/plain": [
       "LOCNASC          0\n",
       "IDADEMAE         0\n",
       "ESTCIVMAE        0\n",
       "ESCMAE         310\n",
       "QTDFILVIVO       0\n",
       "GESTACAO      1216\n",
       "GRAVIDEZ        76\n",
       "CONSULTAS        0\n",
       "APGAR5           0\n",
       "dtype: int64"
      ]
     },
     "execution_count": 15,
     "metadata": {},
     "output_type": "execute_result"
    }
   ],
   "source": [
    "# 6\n",
    "base_sinasc.QTDFILVIVO.fillna(0,inplace=True)\n",
    "base_sinasc.isna().sum()"
   ]
  },
  {
   "cell_type": "code",
   "execution_count": 17,
   "id": "b186617d",
   "metadata": {},
   "outputs": [
    {
     "data": {
      "text/plain": [
       "310"
      ]
     },
     "execution_count": 17,
     "metadata": {},
     "output_type": "execute_result"
    }
   ],
   "source": [
    "# 7\n",
    "base_sinasc.ESCMAE.isna().sum()"
   ]
  },
  {
   "cell_type": "code",
   "execution_count": 18,
   "id": "a2a98e25",
   "metadata": {},
   "outputs": [
    {
     "data": {
      "text/plain": [
       "1216"
      ]
     },
     "execution_count": 18,
     "metadata": {},
     "output_type": "execute_result"
    }
   ],
   "source": [
    "base_sinasc.GESTACAO.isna().sum()"
   ]
  },
  {
   "cell_type": "code",
   "execution_count": 19,
   "id": "304766ad",
   "metadata": {},
   "outputs": [
    {
     "data": {
      "text/plain": [
       "76"
      ]
     },
     "execution_count": 19,
     "metadata": {},
     "output_type": "execute_result"
    }
   ],
   "source": [
    "base_sinasc.GRAVIDEZ.isna().sum()"
   ]
  },
  {
   "cell_type": "code",
   "execution_count": 20,
   "id": "37285e80",
   "metadata": {},
   "outputs": [
    {
     "data": {
      "text/plain": [
       "8 a 11 anos        15581\n",
       "12 anos ou mais     5757\n",
       "4 a 7 anos          4727\n",
       "1 a 3 anos           510\n",
       "Nenhuma               40\n",
       "Name: ESCMAE, dtype: int64"
      ]
     },
     "execution_count": 20,
     "metadata": {},
     "output_type": "execute_result"
    }
   ],
   "source": [
    "base_sinasc.ESCMAE.value_counts()"
   ]
  },
  {
   "cell_type": "code",
   "execution_count": 22,
   "id": "a4bdd689",
   "metadata": {},
   "outputs": [
    {
     "data": {
      "text/plain": [
       "ESCMAE           GESTACAO             GRAVIDEZ       \n",
       "8 a 11 anos      37 a 41 semanas      Única              13098\n",
       "12 anos ou mais  37 a 41 semanas      Única               4665\n",
       "4 a 7 anos       37 a 41 semanas      Única               3846\n",
       "8 a 11 anos      32 a 36 semanas      Única               1070\n",
       "4 a 7 anos       32 a 36 semanas      Única                443\n",
       "8 a 11 anos      42 semanas e mais    Única                436\n",
       "12 anos ou mais  32 a 36 semanas      Única                399\n",
       "1 a 3 anos       37 a 41 semanas      Única                397\n",
       "4 a 7 anos       42 semanas e mais    Única                143\n",
       "8 a 11 anos      32 a 36 semanas      Dupla                120\n",
       "                 37 a 41 semanas      Dupla                112\n",
       "12 anos ou mais  42 semanas e mais    Única                 96\n",
       "8 a 11 anos      28 a 31 semanas      Única                 71\n",
       "12 anos ou mais  32 a 36 semanas      Dupla                 56\n",
       "1 a 3 anos       32 a 36 semanas      Única                 55\n",
       "12 anos ou mais  37 a 41 semanas      Dupla                 55\n",
       "8 a 11 anos      22 a 27 semanas      Única                 39\n",
       "12 anos ou mais  28 a 31 semanas      Única                 39\n",
       "4 a 7 anos       37 a 41 semanas      Dupla                 37\n",
       "                 32 a 36 semanas      Dupla                 33\n",
       "Nenhuma          37 a 41 semanas      Única                 28\n",
       "4 a 7 anos       28 a 31 semanas      Única                 24\n",
       "1 a 3 anos       42 semanas e mais    Única                 16\n",
       "12 anos ou mais  22 a 27 semanas      Única                 15\n",
       "4 a 7 anos       22 a 27 semanas      Única                 14\n",
       "8 a 11 anos      28 a 31 semanas      Dupla                 10\n",
       "                 22 a 27 semanas      Dupla                  9\n",
       "Nenhuma          32 a 36 semanas      Única                  6\n",
       "4 a 7 anos       28 a 31 semanas      Dupla                  6\n",
       "1 a 3 anos       32 a 36 semanas      Dupla                  4\n",
       "                 28 a 31 semanas      Única                  4\n",
       "12 anos ou mais  28 a 31 semanas      Dupla                  4\n",
       "                 Menos de 22 semanas  Única                  3\n",
       "4 a 7 anos       Menos de 22 semanas  Única                  3\n",
       "8 a 11 anos      32 a 36 semanas      Tríplice e mais        3\n",
       "1 a 3 anos       37 a 41 semanas      Dupla                  3\n",
       "                 22 a 27 semanas      Única                  2\n",
       "                                      Dupla                  2\n",
       "8 a 11 anos      37 a 41 semanas      Tríplice e mais        2\n",
       "12 anos ou mais  42 semanas e mais    Dupla                  2\n",
       "4 a 7 anos       22 a 27 semanas      Dupla                  2\n",
       "8 a 11 anos      Menos de 22 semanas  Única                  1\n",
       "Nenhuma          22 a 27 semanas      Única                  1\n",
       "12 anos ou mais  22 a 27 semanas      Dupla                  1\n",
       "dtype: int64"
      ]
     },
     "execution_count": 22,
     "metadata": {},
     "output_type": "execute_result"
    }
   ],
   "source": [
    "base_sinasc[['ESCMAE', 'GESTACAO', 'GRAVIDEZ']].value_counts()"
   ]
  },
  {
   "cell_type": "markdown",
   "id": "b092dbd4",
   "metadata": {},
   "source": [
    "escolaridade da mãe, **310** dados vazios, 9: ignorado <br>\n",
    "gestação, **1216** dados vazios, dados faltantes acrescidos ao resultado mais recorrente da base<br>\n",
    "gravidez, **76** dados faltantes, dados faltantes acrescidos ao resultado mais recorrente da base <br>"
   ]
  },
  {
   "cell_type": "code",
   "execution_count": 23,
   "id": "f1687846",
   "metadata": {},
   "outputs": [
    {
     "name": "stderr",
     "output_type": "stream",
     "text": [
      "C:\\Users\\Usuario\\AppData\\Local\\Temp\\ipykernel_1796\\278087445.py:1: SettingWithCopyWarning: \n",
      "A value is trying to be set on a copy of a slice from a DataFrame\n",
      "\n",
      "See the caveats in the documentation: https://pandas.pydata.org/pandas-docs/stable/user_guide/indexing.html#returning-a-view-versus-a-copy\n",
      "  base_sinasc.GESTACAO.fillna('37 a 41 semanas', inplace=True)\n"
     ]
    },
    {
     "data": {
      "text/plain": [
       "LOCNASC         0\n",
       "IDADEMAE        0\n",
       "ESTCIVMAE       0\n",
       "ESCMAE        310\n",
       "QTDFILVIVO      0\n",
       "GESTACAO        0\n",
       "GRAVIDEZ       76\n",
       "CONSULTAS       0\n",
       "APGAR5          0\n",
       "dtype: int64"
      ]
     },
     "execution_count": 23,
     "metadata": {},
     "output_type": "execute_result"
    }
   ],
   "source": [
    "base_sinasc.GESTACAO.fillna('37 a 41 semanas', inplace=True)\n",
    "base_sinasc.isna().sum()"
   ]
  },
  {
   "cell_type": "code",
   "execution_count": 24,
   "id": "a67b26c4",
   "metadata": {},
   "outputs": [
    {
     "name": "stderr",
     "output_type": "stream",
     "text": [
      "C:\\Users\\Usuario\\AppData\\Local\\Temp\\ipykernel_1796\\3620485530.py:1: SettingWithCopyWarning: \n",
      "A value is trying to be set on a copy of a slice from a DataFrame\n",
      "\n",
      "See the caveats in the documentation: https://pandas.pydata.org/pandas-docs/stable/user_guide/indexing.html#returning-a-view-versus-a-copy\n",
      "  base_sinasc.ESCMAE.fillna('Ignorado', inplace=True)\n"
     ]
    },
    {
     "data": {
      "text/plain": [
       "0"
      ]
     },
     "execution_count": 24,
     "metadata": {},
     "output_type": "execute_result"
    }
   ],
   "source": [
    "base_sinasc.ESCMAE.fillna('Ignorado', inplace=True)\n",
    "base_sinasc.ESCMAE.isna().sum()"
   ]
  },
  {
   "cell_type": "code",
   "execution_count": 25,
   "id": "93cc511f",
   "metadata": {},
   "outputs": [
    {
     "name": "stderr",
     "output_type": "stream",
     "text": [
      "C:\\Users\\Usuario\\AppData\\Local\\Temp\\ipykernel_1796\\2436312094.py:1: SettingWithCopyWarning: \n",
      "A value is trying to be set on a copy of a slice from a DataFrame\n",
      "\n",
      "See the caveats in the documentation: https://pandas.pydata.org/pandas-docs/stable/user_guide/indexing.html#returning-a-view-versus-a-copy\n",
      "  base_sinasc.GRAVIDEZ.fillna('Ignorado',inplace=True)\n"
     ]
    },
    {
     "data": {
      "text/plain": [
       "LOCNASC       0\n",
       "IDADEMAE      0\n",
       "ESTCIVMAE     0\n",
       "ESCMAE        0\n",
       "QTDFILVIVO    0\n",
       "GESTACAO      0\n",
       "GRAVIDEZ      0\n",
       "CONSULTAS     0\n",
       "APGAR5        0\n",
       "dtype: int64"
      ]
     },
     "execution_count": 25,
     "metadata": {},
     "output_type": "execute_result"
    }
   ],
   "source": [
    "base_sinasc.GRAVIDEZ.fillna('Ignorado',inplace=True)\n",
    "base_sinasc.isna().sum()"
   ]
  },
  {
   "cell_type": "code",
   "execution_count": 32,
   "id": "276e282d",
   "metadata": {},
   "outputs": [],
   "source": [
    "# 8\n",
    "base_sinasc.loc[(base_sinasc.APGAR5 >= 8) & (base_sinasc.APGAR5 <= 10), 'CLASSAPGAR5'] = 'normal'\n",
    "base_sinasc.loc[(base_sinasc.APGAR5 == 7) | (base_sinasc.APGAR5 == 6), 'CLASSAPGAR5'] = 'asfixia leve'\n",
    "base_sinasc.loc[(base_sinasc.APGAR5 == 4) | (base_sinasc.APGAR5 == 5), 'CLASSAPGAR5'] = 'asfixia moderada'\n",
    "base_sinasc.loc[(base_sinasc.APGAR5 >= 1) & (base_sinasc.APGAR5 <= 3), 'CLASSAPGAR5'] = 'asfixia grave'"
   ]
  },
  {
   "cell_type": "code",
   "execution_count": 33,
   "id": "e1152f94",
   "metadata": {},
   "outputs": [
    {
     "data": {
      "text/plain": [
       "normal              26480\n",
       "asfixia leve          320\n",
       "asfixia moderada       68\n",
       "asfixia grave          57\n",
       "Name: CLASSAPGAR5, dtype: int64"
      ]
     },
     "execution_count": 33,
     "metadata": {},
     "output_type": "execute_result"
    }
   ],
   "source": [
    "base_sinasc.CLASSAPGAR5.value_counts()"
   ]
  },
  {
   "cell_type": "code",
   "execution_count": 37,
   "id": "8bc265b3",
   "metadata": {},
   "outputs": [
    {
     "name": "stderr",
     "output_type": "stream",
     "text": [
      "C:\\Users\\Usuario\\AppData\\Local\\Temp\\ipykernel_1796\\4096901877.py:2: SettingWithCopyWarning: \n",
      "A value is trying to be set on a copy of a slice from a DataFrame\n",
      "\n",
      "See the caveats in the documentation: https://pandas.pydata.org/pandas-docs/stable/user_guide/indexing.html#returning-a-view-versus-a-copy\n",
      "  base_sinasc.rename(columns={'LOCNASC': 'loc_nasc', 'IDADEMAE': 'idade_mae', 'ESTCIVMAE': 'est_civ_mae', 'QTDFILVIVO': 'qtd_fil_vivo',\n"
     ]
    }
   ],
   "source": [
    "# 9\n",
    "base_sinasc.rename(columns={'LOCNASC': 'loc_nasc', 'IDADEMAE': 'idade_mae', 'ESTCIVMAE': 'est_civ_mae', 'QTDFILVIVO': 'qtd_fil_vivo',\n",
    "                           'GESTACAO': 'gestacao', 'GRAVIDEZ': 'gravidez', 'CONSULTAS': 'consultas', 'APGAR5': 'apgar5',\n",
    "                            'CLASSAPGAR5': 'class_apgar5'}, inplace=True)"
   ]
  },
  {
   "cell_type": "code",
   "execution_count": 38,
   "id": "cb619061",
   "metadata": {},
   "outputs": [
    {
     "data": {
      "text/plain": [
       "Index(['loc_nasc', 'idade_mae', 'est_civ_mae', 'ESCMAE', 'qtd_fil_vivo',\n",
       "       'gestacao', 'gravidez', 'consultas', 'apgar5', 'class_apgar5'],\n",
       "      dtype='object')"
      ]
     },
     "execution_count": 38,
     "metadata": {},
     "output_type": "execute_result"
    }
   ],
   "source": [
    "base_sinasc.columns"
   ]
  },
  {
   "cell_type": "code",
   "execution_count": 39,
   "id": "b674b7fb",
   "metadata": {},
   "outputs": [
    {
     "data": {
      "text/html": [
       "<div>\n",
       "<style scoped>\n",
       "    .dataframe tbody tr th:only-of-type {\n",
       "        vertical-align: middle;\n",
       "    }\n",
       "\n",
       "    .dataframe tbody tr th {\n",
       "        vertical-align: top;\n",
       "    }\n",
       "\n",
       "    .dataframe thead th {\n",
       "        text-align: right;\n",
       "    }\n",
       "</style>\n",
       "<table border=\"1\" class=\"dataframe\">\n",
       "  <thead>\n",
       "    <tr style=\"text-align: right;\">\n",
       "      <th></th>\n",
       "      <th>loc_nasc</th>\n",
       "      <th>idade_mae</th>\n",
       "      <th>est_civ_mae</th>\n",
       "      <th>ESCMAE</th>\n",
       "      <th>qtd_fil_vivo</th>\n",
       "      <th>gestacao</th>\n",
       "      <th>gravidez</th>\n",
       "      <th>consultas</th>\n",
       "      <th>apgar5</th>\n",
       "      <th>class_apgar5</th>\n",
       "    </tr>\n",
       "  </thead>\n",
       "  <tbody>\n",
       "    <tr>\n",
       "      <th>0</th>\n",
       "      <td>1</td>\n",
       "      <td>19</td>\n",
       "      <td>5.0</td>\n",
       "      <td>8 a 11 anos</td>\n",
       "      <td>0.0</td>\n",
       "      <td>37 a 41 semanas</td>\n",
       "      <td>Única</td>\n",
       "      <td>4</td>\n",
       "      <td>10.0</td>\n",
       "      <td>normal</td>\n",
       "    </tr>\n",
       "    <tr>\n",
       "      <th>1</th>\n",
       "      <td>1</td>\n",
       "      <td>29</td>\n",
       "      <td>2.0</td>\n",
       "      <td>8 a 11 anos</td>\n",
       "      <td>1.0</td>\n",
       "      <td>37 a 41 semanas</td>\n",
       "      <td>Única</td>\n",
       "      <td>4</td>\n",
       "      <td>9.0</td>\n",
       "      <td>normal</td>\n",
       "    </tr>\n",
       "    <tr>\n",
       "      <th>2</th>\n",
       "      <td>1</td>\n",
       "      <td>37</td>\n",
       "      <td>9.0</td>\n",
       "      <td>8 a 11 anos</td>\n",
       "      <td>2.0</td>\n",
       "      <td>37 a 41 semanas</td>\n",
       "      <td>Única</td>\n",
       "      <td>4</td>\n",
       "      <td>10.0</td>\n",
       "      <td>normal</td>\n",
       "    </tr>\n",
       "    <tr>\n",
       "      <th>3</th>\n",
       "      <td>1</td>\n",
       "      <td>30</td>\n",
       "      <td>5.0</td>\n",
       "      <td>12 anos ou mais</td>\n",
       "      <td>0.0</td>\n",
       "      <td>37 a 41 semanas</td>\n",
       "      <td>Única</td>\n",
       "      <td>3</td>\n",
       "      <td>10.0</td>\n",
       "      <td>normal</td>\n",
       "    </tr>\n",
       "    <tr>\n",
       "      <th>4</th>\n",
       "      <td>1</td>\n",
       "      <td>30</td>\n",
       "      <td>2.0</td>\n",
       "      <td>8 a 11 anos</td>\n",
       "      <td>1.0</td>\n",
       "      <td>37 a 41 semanas</td>\n",
       "      <td>Única</td>\n",
       "      <td>4</td>\n",
       "      <td>10.0</td>\n",
       "      <td>normal</td>\n",
       "    </tr>\n",
       "    <tr>\n",
       "      <th>...</th>\n",
       "      <td>...</td>\n",
       "      <td>...</td>\n",
       "      <td>...</td>\n",
       "      <td>...</td>\n",
       "      <td>...</td>\n",
       "      <td>...</td>\n",
       "      <td>...</td>\n",
       "      <td>...</td>\n",
       "      <td>...</td>\n",
       "      <td>...</td>\n",
       "    </tr>\n",
       "    <tr>\n",
       "      <th>27023</th>\n",
       "      <td>1</td>\n",
       "      <td>32</td>\n",
       "      <td>2.0</td>\n",
       "      <td>12 anos ou mais</td>\n",
       "      <td>1.0</td>\n",
       "      <td>32 a 36 semanas</td>\n",
       "      <td>Única</td>\n",
       "      <td>4</td>\n",
       "      <td>9.0</td>\n",
       "      <td>normal</td>\n",
       "    </tr>\n",
       "    <tr>\n",
       "      <th>27024</th>\n",
       "      <td>1</td>\n",
       "      <td>19</td>\n",
       "      <td>1.0</td>\n",
       "      <td>8 a 11 anos</td>\n",
       "      <td>0.0</td>\n",
       "      <td>37 a 41 semanas</td>\n",
       "      <td>Única</td>\n",
       "      <td>4</td>\n",
       "      <td>9.0</td>\n",
       "      <td>normal</td>\n",
       "    </tr>\n",
       "    <tr>\n",
       "      <th>27025</th>\n",
       "      <td>1</td>\n",
       "      <td>24</td>\n",
       "      <td>2.0</td>\n",
       "      <td>8 a 11 anos</td>\n",
       "      <td>0.0</td>\n",
       "      <td>37 a 41 semanas</td>\n",
       "      <td>Única</td>\n",
       "      <td>4</td>\n",
       "      <td>10.0</td>\n",
       "      <td>normal</td>\n",
       "    </tr>\n",
       "    <tr>\n",
       "      <th>27026</th>\n",
       "      <td>1</td>\n",
       "      <td>21</td>\n",
       "      <td>2.0</td>\n",
       "      <td>8 a 11 anos</td>\n",
       "      <td>1.0</td>\n",
       "      <td>32 a 36 semanas</td>\n",
       "      <td>Única</td>\n",
       "      <td>4</td>\n",
       "      <td>9.0</td>\n",
       "      <td>normal</td>\n",
       "    </tr>\n",
       "    <tr>\n",
       "      <th>27027</th>\n",
       "      <td>1</td>\n",
       "      <td>18</td>\n",
       "      <td>5.0</td>\n",
       "      <td>8 a 11 anos</td>\n",
       "      <td>1.0</td>\n",
       "      <td>37 a 41 semanas</td>\n",
       "      <td>Única</td>\n",
       "      <td>4</td>\n",
       "      <td>8.0</td>\n",
       "      <td>normal</td>\n",
       "    </tr>\n",
       "  </tbody>\n",
       "</table>\n",
       "<p>26925 rows × 10 columns</p>\n",
       "</div>"
      ],
      "text/plain": [
       "       loc_nasc  idade_mae  est_civ_mae           ESCMAE  qtd_fil_vivo  \\\n",
       "0             1         19          5.0      8 a 11 anos           0.0   \n",
       "1             1         29          2.0      8 a 11 anos           1.0   \n",
       "2             1         37          9.0      8 a 11 anos           2.0   \n",
       "3             1         30          5.0  12 anos ou mais           0.0   \n",
       "4             1         30          2.0      8 a 11 anos           1.0   \n",
       "...         ...        ...          ...              ...           ...   \n",
       "27023         1         32          2.0  12 anos ou mais           1.0   \n",
       "27024         1         19          1.0      8 a 11 anos           0.0   \n",
       "27025         1         24          2.0      8 a 11 anos           0.0   \n",
       "27026         1         21          2.0      8 a 11 anos           1.0   \n",
       "27027         1         18          5.0      8 a 11 anos           1.0   \n",
       "\n",
       "              gestacao gravidez  consultas  apgar5 class_apgar5  \n",
       "0      37 a 41 semanas    Única          4    10.0       normal  \n",
       "1      37 a 41 semanas    Única          4     9.0       normal  \n",
       "2      37 a 41 semanas    Única          4    10.0       normal  \n",
       "3      37 a 41 semanas    Única          3    10.0       normal  \n",
       "4      37 a 41 semanas    Única          4    10.0       normal  \n",
       "...                ...      ...        ...     ...          ...  \n",
       "27023  32 a 36 semanas    Única          4     9.0       normal  \n",
       "27024  37 a 41 semanas    Única          4     9.0       normal  \n",
       "27025  37 a 41 semanas    Única          4    10.0       normal  \n",
       "27026  32 a 36 semanas    Única          4     9.0       normal  \n",
       "27027  37 a 41 semanas    Única          4     8.0       normal  \n",
       "\n",
       "[26925 rows x 10 columns]"
      ]
     },
     "execution_count": 39,
     "metadata": {},
     "output_type": "execute_result"
    }
   ],
   "source": [
    "base_sinasc"
   ]
  }
 ],
 "metadata": {
  "kernelspec": {
   "display_name": "Python 3 (ipykernel)",
   "language": "python",
   "name": "python3"
  },
  "language_info": {
   "codemirror_mode": {
    "name": "ipython",
    "version": 3
   },
   "file_extension": ".py",
   "mimetype": "text/x-python",
   "name": "python",
   "nbconvert_exporter": "python",
   "pygments_lexer": "ipython3",
   "version": "3.10.9"
  }
 },
 "nbformat": 4,
 "nbformat_minor": 5
}
